{
 "cells": [
  {
   "cell_type": "code",
   "execution_count": 1,
   "id": "64f0f2a7-6ad2-4a46-ab46-5fc7608ec5a3",
   "metadata": {},
   "outputs": [
    {
     "name": "stderr",
     "output_type": "stream",
     "text": [
      "C:\\Users\\PRIYESH PRIYAM\\AppData\\Local\\Temp\\ipykernel_19476\\3497478014.py:10: FutureWarning: YF.download() has changed argument auto_adjust default to True\n",
      "  stock_data = yf.download(ticker, start=start_date, end=end_date)\n",
      "[*********************100%***********************]  1 of 1 completed"
     ]
    },
    {
     "name": "stdout",
     "output_type": "stream",
     "text": [
      "\n",
      "Successfully saved RECENT stock data to AAPL_stock_data.csv\n",
      "Price            Close        High         Low        Open    Volume\n",
      "Ticker            AAPL        AAPL        AAPL        AAPL      AAPL\n",
      "Date                                                                \n",
      "2025-07-15  208.872955  211.649803  208.683168  208.982831  42296300\n",
      "2025-07-16  209.921768  212.159219  208.403487  210.061609  47490500\n",
      "2025-07-17  209.781921  211.559902  209.352401  210.331301  48068100\n",
      "2025-07-18  210.940598  211.549907  209.462280  210.630951  48974600\n",
      "2025-07-21  212.239120  215.535383  211.390093  211.859562  51377400\n"
     ]
    },
    {
     "name": "stderr",
     "output_type": "stream",
     "text": [
      "\n"
     ]
    }
   ],
   "source": [
    "import yfinance as yf\n",
    "import pandas as pd\n",
    "\n",
    "# Define the stock ticker and a RECENT date range\n",
    "ticker = 'AAPL'\n",
    "start_date = '2025-07-15' # A date within the last ~45 days\n",
    "end_date = '2025-08-31'   # Today's date\n",
    "\n",
    "# Download the stock data\n",
    "stock_data = yf.download(ticker, start=start_date, end=end_date)\n",
    "\n",
    "# Save the data to a CSV file for later use\n",
    "stock_data.to_csv('AAPL_stock_data.csv')\n",
    "\n",
    "print(f\"\\nSuccessfully saved RECENT stock data to AAPL_stock_data.csv\")\n",
    "print(stock_data.head())"
   ]
  },
  {
   "cell_type": "code",
   "execution_count": 2,
   "id": "975bdbcd-7bbd-4c07-90b1-eb26f8cbfd3d",
   "metadata": {},
   "outputs": [
    {
     "name": "stdout",
     "output_type": "stream",
     "text": [
      "News Data:\n",
      "         date                                              title  \\\n",
      "0  2025-08-30  Quantbot Technologies LP Raises Stock Holdings...   \n",
      "1  2025-08-30  Pioneer Trust Bank N A OR Cuts Holdings in App...   \n",
      "2  2025-08-30  Fortress Financial Solutions LLC Increases Sta...   \n",
      "3  2025-08-30  Cohen Capital Management Inc. Sells 2,100 Shar...   \n",
      "4  2025-08-30  Trail Ridge Investment Advisors LLC Trims Stak...   \n",
      "\n",
      "                                             content  \n",
      "0  Quantbot Technologies LP increased its positio...  \n",
      "1  Pioneer Trust Bank N A OR lowered its position...  \n",
      "2  Fortress Financial Solutions LLC increased its...  \n",
      "3  Cohen Capital Management Inc. cut its position...  \n",
      "4  Trail Ridge Investment Advisors LLC cut its po...  \n",
      "\n",
      "Successfully saved 99 articles to AAPL_news_data.csv\n"
     ]
    }
   ],
   "source": [
    "import requests\n",
    "import pandas as pd\n",
    "\n",
    "# --- IMPORTANT: REPLACE WITH YOUR KEY ---\n",
    "API_KEY = '5a42f5394890421999a52cf3c6dc8bc4' \n",
    "# -----------------------------------------\n",
    "\n",
    "company_name = 'Apple'\n",
    "search_query = f'{company_name} stock'\n",
    "# We'll fetch news from the last month (the limit of the free API)\n",
    "from_date = '2025-08-01' # Adjust this to be within the last 30 days\n",
    "\n",
    "url = (f'https://newsapi.org/v2/everything?'\n",
    "       f'q={search_query}&'\n",
    "       f'from={from_date}&'\n",
    "       f'language=en&'\n",
    "       f'sortBy=publishedAt&'\n",
    "       f'apiKey={API_KEY}')\n",
    "\n",
    "response = requests.get(url)\n",
    "data = response.json()\n",
    "\n",
    "# Check if the request was successful\n",
    "if data['status'] == 'ok':\n",
    "    articles = data['articles']\n",
    "    \n",
    "    # Process and store the relevant data\n",
    "    news_list = []\n",
    "    for article in articles:\n",
    "        # Extracting just the date part from the timestamp\n",
    "        published_date = pd.to_datetime(article['publishedAt']).strftime('%Y-%m-%d')\n",
    "        news_list.append({'date': published_date, \n",
    "                            'title': article['title'], \n",
    "                            'content': article['description']})\n",
    "    \n",
    "    news_df = pd.DataFrame(news_list)\n",
    "    \n",
    "    print(\"News Data:\")\n",
    "    print(news_df.head())\n",
    "    \n",
    "    # Save the news data to a CSV file\n",
    "    news_df.to_csv('AAPL_news_data.csv', index=False)\n",
    "    \n",
    "    print(f\"\\nSuccessfully saved {len(news_df)} articles to AAPL_news_data.csv\")\n",
    "else:\n",
    "    print(\"Failed to fetch news. Error:\", data.get('message', 'Unknown error'))"
   ]
  },
  {
   "cell_type": "code",
   "execution_count": null,
   "id": "ff9f774f-bd06-4bff-8492-49a05504ec15",
   "metadata": {},
   "outputs": [],
   "source": []
  },
  {
   "cell_type": "code",
   "execution_count": 3,
   "id": "653c96b8-f753-4b36-9a6a-c919a930fc11",
   "metadata": {},
   "outputs": [
    {
     "name": "stdout",
     "output_type": "stream",
     "text": [
      "Stock data with Target variable:\n",
      "                 Close        High         Low        Open      Volume  \\\n",
      "Date                                                                     \n",
      "2025-07-15  208.872955  211.649803  208.683168  208.982831  42296300.0   \n",
      "2025-07-16  209.921768  212.159219  208.403487  210.061609  47490500.0   \n",
      "2025-07-17  209.781921  211.559902  209.352401  210.331301  48068100.0   \n",
      "2025-07-18  210.940598  211.549907  209.462280  210.630951  48974600.0   \n",
      "2025-07-21  212.239120  215.535383  211.390093  211.859562  51377400.0   \n",
      "\n",
      "            Price_Change  Target  \n",
      "Date                              \n",
      "2025-07-15           NaN       1  \n",
      "2025-07-16      1.048813       0  \n",
      "2025-07-17     -0.139847       1  \n",
      "2025-07-18      1.158676       1  \n",
      "2025-07-21      1.298523       1  \n",
      "\n",
      "Data types after cleaning:\n",
      "Close           float64\n",
      "High            float64\n",
      "Low             float64\n",
      "Open            float64\n",
      "Volume          float64\n",
      "Price_Change    float64\n",
      "Target            int64\n",
      "dtype: object\n"
     ]
    },
    {
     "name": "stderr",
     "output_type": "stream",
     "text": [
      "C:\\Users\\PRIYESH PRIYAM\\AppData\\Local\\Temp\\ipykernel_19476\\9322473.py:6: UserWarning: Could not infer format, so each element will be parsed individually, falling back to `dateutil`. To ensure parsing is consistent and as-expected, please specify a format.\n",
      "  stock_data = pd.read_csv('AAPL_stock_data.csv', index_col=0, parse_dates=True)\n"
     ]
    }
   ],
   "source": [
    "import pandas as pd\n",
    "import matplotlib.pyplot as plt\n",
    "import seaborn as sns\n",
    "\n",
    "# Load the datasets\n",
    "stock_data = pd.read_csv('AAPL_stock_data.csv', index_col=0, parse_dates=True)\n",
    "stock_data.index.name = 'Date'\n",
    "news_data = pd.read_csv('AAPL_news_data.csv')\n",
    "\n",
    "# --- FIX: REMOVED 'Adj Close' FROM THE LIST ---\n",
    "# This list now matches the standard column names from yfinance\n",
    "cols_to_convert = ['Open', 'High', 'Low', 'Close', 'Volume']\n",
    "for col in cols_to_convert:\n",
    "    stock_data[col] = pd.to_numeric(stock_data[col], errors='coerce')\n",
    "\n",
    "# Drop any rows that might have missing values after conversion\n",
    "stock_data.dropna(inplace=True)\n",
    "# --------------------------------------------------\n",
    "\n",
    "# --- PREPARE THE TARGET VARIABLE ---\n",
    "stock_data['Price_Change'] = stock_data['Close'].diff()\n",
    "stock_data['Target'] = (stock_data['Price_Change'].shift(-1) > 0).astype(int)\n",
    "stock_data = stock_data.dropna(subset=['Target'])\n",
    "\n",
    "print(\"Stock data with Target variable:\")\n",
    "print(stock_data.head())\n",
    "print(\"\\nData types after cleaning:\")\n",
    "print(stock_data.dtypes)"
   ]
  },
  {
   "cell_type": "code",
   "execution_count": 4,
   "id": "333a15a4-d06f-4799-9507-34b19e06e311",
   "metadata": {},
   "outputs": [
    {
     "name": "stderr",
     "output_type": "stream",
     "text": [
      "C:\\Users\\PRIYESH PRIYAM\\AppData\\Local\\Temp\\ipykernel_19476\\3077036360.py:10: UserWarning: Could not infer format, so each element will be parsed individually, falling back to `dateutil`. To ensure parsing is consistent and as-expected, please specify a format.\n",
      "  stock_data.index = pd.to_datetime(stock_data.index, errors='coerce')\n"
     ]
    },
    {
     "name": "stdout",
     "output_type": "stream",
     "text": [
      "✅ Step 3.1: Stock data loaded and cleaned successfully.\n",
      "✅ Step 3.2: News data loaded and aggregated successfully.\n",
      "\n",
      "Data types right before merge:\n",
      "Stock data index type: datetime64[ns]\n",
      "Daily news 'date' column type: datetime64[ns]\n",
      "\n",
      "✅ Step 3.3: Merge successful!\n",
      "                 Close                                              title  \\\n",
      "date                                                                        \n",
      "2025-08-28  232.559998  Affirm's stock soars 15% on earnings, revenue ...   \n",
      "2025-08-29  232.139999  Apple Inc. (AAPL): The AI “Will Come Into Play...   \n",
      "\n",
      "            Target  \n",
      "date                \n",
      "2025-08-28       0  \n",
      "2025-08-29       0  \n"
     ]
    },
    {
     "data": {
      "image/png": "[encoded data removed]",
      "text/plain": [
       "<Figure size 1400x700 with 1 Axes>"
      ]
     },
     "metadata": {},
     "output_type": "display_data"
    },
    {
     "data": {
      "image/png": "[encoded data removed]",
      "text/plain": [
       "<Figure size 700x500 with 1 Axes>"
      ]
     },
     "metadata": {},
     "output_type": "display_data"
    },
    {
     "name": "stdout",
     "output_type": "stream",
     "text": [
      "\n",
      "✅ Step 3.4: Plots generated successfully.\n"
     ]
    }
   ],
   "source": [
    "import pandas as pd\n",
    "import matplotlib.pyplot as plt\n",
    "import seaborn as sns\n",
    "\n",
    "# --- STEP 3.1: LOAD AND CLEAN STOCK DATA ---\n",
    "try:\n",
    "    stock_data = pd.read_csv('AAPL_stock_data.csv', index_col=0)\n",
    "    \n",
    "    # --- CRITICAL FIX: EXPLICITLY CONVERT THE INDEX TO DATETIME ---\n",
    "    stock_data.index = pd.to_datetime(stock_data.index, errors='coerce')\n",
    "    stock_data.dropna(inplace=True) # Remove rows if date conversion failed\n",
    "    # -------------------------------------------------------------\n",
    "\n",
    "    stock_data.index.name = 'Date'\n",
    "    \n",
    "    cols_to_convert = ['Open', 'High', 'Low', 'Close', 'Volume']\n",
    "    for col in cols_to_convert:\n",
    "        stock_data[col] = pd.to_numeric(stock_data[col], errors='coerce')\n",
    "    stock_data.dropna(inplace=True)\n",
    "    \n",
    "    stock_data['Price_Change'] = stock_data['Close'].diff()\n",
    "    stock_data['Target'] = (stock_data['Price_Change'].shift(-1) > 0).astype(int)\n",
    "    stock_data = stock_data.dropna(subset=['Target'])\n",
    "    print(\"✅ Step 3.1: Stock data loaded and cleaned successfully.\")\n",
    "except Exception as e:\n",
    "    print(f\"❌ Error in Step 3.1: {e}\")\n",
    "\n",
    "\n",
    "# --- STEP 3.2: LOAD AND AGGREGATE NEWS DATA ---\n",
    "try:\n",
    "    news_data = pd.read_csv('AAPL_news_data.csv')\n",
    "    news_data['date'] = pd.to_datetime(news_data['date'], errors='coerce')\n",
    "    news_data.dropna(subset=['date'], inplace=True) \n",
    "    \n",
    "    daily_news = news_data.groupby('date')['title'].apply(' '.join).reset_index()\n",
    "    print(\"✅ Step 3.2: News data loaded and aggregated successfully.\")\n",
    "except Exception as e:\n",
    "    print(f\"❌ Error in Step 3.2: {e}\")\n",
    "\n",
    "\n",
    "# --- FINAL CHECK AND MERGE ---\n",
    "if daily_news.empty:\n",
    "    print(\"\\n‼️ WARNING: The 'daily_news' DataFrame is empty.\")\n",
    "    print(\"This means no news articles were found for the dates in your stock data.\")\n",
    "else:\n",
    "    print(\"\\nData types right before merge:\")\n",
    "    print(f\"Stock data index type: {stock_data.index.dtype}\")\n",
    "    print(f\"Daily news 'date' column type: {daily_news['date'].dtype}\")\n",
    "    \n",
    "    try:\n",
    "        # --- STEP 3.3: MERGE ---\n",
    "        merged_data = pd.merge(stock_data, daily_news, left_index=True, right_on='date', how='inner')\n",
    "        merged_data.set_index('date', inplace=True)\n",
    "        print(\"\\n✅ Step 3.3: Merge successful!\")\n",
    "        print(merged_data[['Close', 'title', 'Target']].head())\n",
    "        \n",
    "        # --- STEP 3.4: PLOTTING ---\n",
    "        plt.figure(figsize=(14, 7))\n",
    "        plt.plot(merged_data['Close'])\n",
    "        plt.title('Apple (AAPL) Stock Closing Price')\n",
    "        plt.xlabel('Date')\n",
    "        plt.ylabel('Price (USD)')\n",
    "        plt.grid(True)\n",
    "        plt.show()\n",
    "\n",
    "        plt.figure(figsize=(7, 5))\n",
    "        sns.countplot(x='Target', data=merged_data)\n",
    "        plt.title('Distribution of Price Movement (0 = Down/Same, 1 = Up)')\n",
    "        plt.show()\n",
    "        print(\"\\n✅ Step 3.4: Plots generated successfully.\")\n",
    "\n",
    "    except Exception as e:\n",
    "        print(f\"\\n❌ An error occurred during the merge or plotting: {e}\")"
   ]
  },
  {
   "cell_type": "code",
   "execution_count": 5,
   "id": "246d2c03-cc12-41be-ae94-cfcb2d20c20e",
   "metadata": {
    "scrolled": true
   },
   "outputs": [
    {
     "name": "stderr",
     "output_type": "stream",
     "text": [
      "100%|████████████████████████████████████████████████████████████████████████████████████| 2/2 [00:00<00:00,  2.14it/s]"
     ]
    },
    {
     "name": "stdout",
     "output_type": "stream",
     "text": [
      "Data with Sentiment Score:\n",
      "                                                        title  sentiment_score\n",
      "date                                                                          \n",
      "2025-08-28  Affirm's stock soars 15% on earnings, revenue ...         0.034287\n",
      "2025-08-29  Apple Inc. (AAPL): The AI “Will Come Into Play...        -0.163682\n"
     ]
    },
    {
     "name": "stderr",
     "output_type": "stream",
     "text": [
      "\n"
     ]
    }
   ],
   "source": [
    "from transformers import AutoTokenizer, AutoModelForSequenceClassification\n",
    "import torch\n",
    "from tqdm import tqdm\n",
    "\n",
    "# Initialize the FinBERT model and tokenizer\n",
    "tokenizer = AutoTokenizer.from_pretrained('ProsusAI/finbert')\n",
    "model = AutoModelForSequenceClassification.from_pretrained('ProsusAI/finbert')\n",
    "\n",
    "# We need to apply TQDM to pandas to see a progress bar\n",
    "tqdm.pandas()\n",
    "\n",
    "# Define a function to get the sentiment score\n",
    "def get_sentiment(text):\n",
    "    inputs = tokenizer(text, return_tensors='pt', truncation=True, max_length=512)\n",
    "    with torch.no_grad():\n",
    "        logits = model(**inputs).logits\n",
    "    probabilities = torch.nn.functional.softmax(logits, dim=-1)\n",
    "    positive = probabilities[0][0].item()\n",
    "    negative = probabilities[0][1].item()\n",
    "    score = positive - negative\n",
    "    return score\n",
    "\n",
    "# Apply the function to the 'title' column with a progress bar\n",
    "merged_data['sentiment_score'] = merged_data['title'].progress_apply(get_sentiment)\n",
    "\n",
    "print(\"Data with Sentiment Score:\")\n",
    "print(merged_data[['title', 'sentiment_score']].head())"
   ]
  },
  {
   "cell_type": "code",
   "execution_count": 6,
   "id": "3ca50ec6-fa06-48fc-ae98-2dfca1123606",
   "metadata": {},
   "outputs": [
    {
     "name": "stdout",
     "output_type": "stream",
     "text": [
      "\n",
      "Final dataset with all features:\n",
      "                 Close  Target  sentiment_score  SMA_3  RSI_14\n",
      "date                                                          \n",
      "2025-08-28  232.559998       0         0.034287    NaN     NaN\n",
      "2025-08-29  232.139999       0        -0.163682    NaN     NaN\n"
     ]
    }
   ],
   "source": [
    "# --- Simple Moving Average (SMA) ---\n",
    "merged_data['SMA_3'] = merged_data['Close'].rolling(window=3).mean()\n",
    "\n",
    "# --- Relative Strength Index (RSI) ---\n",
    "def calculate_rsi(data, window=14):\n",
    "    delta = data['Close'].diff()\n",
    "    gain = (delta.where(delta > 0, 0)).rolling(window=window).mean()\n",
    "    loss = (-delta.where(delta < 0, 0)).rolling(window=window).mean()\n",
    "    rs = gain / loss\n",
    "    rsi = 100 - (100 / (1 + rs))\n",
    "    return rsi\n",
    "\n",
    "merged_data['RSI_14'] = calculate_rsi(merged_data)\n",
    "\n",
    "# --- Handle Missing Values ---\n",
    "merged_data.fillna(merged_data.mean(numeric_only=True), inplace=True)\n",
    "\n",
    "print(\"\\nFinal dataset with all features:\")\n",
    "print(merged_data[['Close', 'Target', 'sentiment_score', 'SMA_3', 'RSI_14']].head())"
   ]
  },
  {
   "cell_type": "code",
   "execution_count": 7,
   "id": "05413125-beba-48b0-8596-1e38d2cb1797",
   "metadata": {},
   "outputs": [],
   "source": [
    "# Define our features (X) and target (y)\n",
    "features = ['sentiment_score', 'SMA_3', 'RSI_14']\n",
    "target = 'Target'\n",
    "\n",
    "X = merged_data[features]\n",
    "y = merged_data[target]"
   ]
  },
  {
   "cell_type": "code",
   "execution_count": 8,
   "id": "17b872fb-bc2a-4f7c-abfe-198572574f2c",
   "metadata": {},
   "outputs": [
    {
     "name": "stdout",
     "output_type": "stream",
     "text": [
      "Training set size: 1 rows\n",
      "Testing set size: 1 rows\n"
     ]
    }
   ],
   "source": [
    "# Calculate the split point\n",
    "train_size = int(len(X) * 0.8)\n",
    "\n",
    "# Split the data\n",
    "X_train, X_test = X[:train_size], X[train_size:]\n",
    "y_train, y_test = y[:train_size], y[train_size:]\n",
    "\n",
    "print(f\"Training set size: {len(X_train)} rows\")\n",
    "print(f\"Testing set size: {len(X_test)} rows\")"
   ]
  },
  {
   "cell_type": "code",
   "execution_count": 9,
   "id": "8f7a8243-f6a9-4e9e-99b6-5d4327766803",
   "metadata": {
    "scrolled": true
   },
   "outputs": [
    {
     "name": "stderr",
     "output_type": "stream",
     "text": [
      "C:\\Users\\PRIYESH PRIYAM\\Desktop\\Stock_Sentiment_Project\\env\\Lib\\site-packages\\xgboost\\training.py:183: UserWarning: [14:17:47] WARNING: C:\\actions-runner\\_work\\xgboost\\xgboost\\src\\learner.cc:738: \n",
      "Parameters: { \"use_label_encoder\" } are not used.\n",
      "\n",
      "  bst.update(dtrain, iteration=i, fobj=obj)\n"
     ]
    },
    {
     "ename": "XGBoostError",
     "evalue": "[14:17:47] C:\\actions-runner\\_work\\xgboost\\xgboost\\src\\objective\\./regression_loss.h:68: Check failed: base_score > 0.0f && base_score < 1.0f: base_score must be in (0,1) for logistic loss, got: 0",
     "output_type": "error",
     "traceback": [
      "\u001b[31m---------------------------------------------------------------------------\u001b[39m",
      "\u001b[31mXGBoostError\u001b[39m                              Traceback (most recent call last)",
      "\u001b[36mCell\u001b[39m\u001b[36m \u001b[39m\u001b[32mIn[9]\u001b[39m\u001b[32m, line 11\u001b[39m\n\u001b[32m      8\u001b[39m model = xgb.XGBClassifier(objective=\u001b[33m'\u001b[39m\u001b[33mbinary:logistic\u001b[39m\u001b[33m'\u001b[39m, use_label_encoder=\u001b[38;5;28;01mFalse\u001b[39;00m, eval_metric=\u001b[33m'\u001b[39m\u001b[33mlogloss\u001b[39m\u001b[33m'\u001b[39m)\n\u001b[32m     10\u001b[39m \u001b[38;5;66;03m# Train the model on the training data\u001b[39;00m\n\u001b[32m---> \u001b[39m\u001b[32m11\u001b[39m \u001b[43mmodel\u001b[49m\u001b[43m.\u001b[49m\u001b[43mfit\u001b[49m\u001b[43m(\u001b[49m\u001b[43mX_train\u001b[49m\u001b[43m,\u001b[49m\u001b[43m \u001b[49m\u001b[43my_train\u001b[49m\u001b[43m)\u001b[49m\n\u001b[32m     13\u001b[39m \u001b[38;5;28mprint\u001b[39m(\u001b[33m\"\u001b[39m\u001b[33m✅ XGBoost Model trained successfully!\u001b[39m\u001b[33m\"\u001b[39m)\n",
      "\u001b[36mFile \u001b[39m\u001b[32m~\\Desktop\\Stock_Sentiment_Project\\env\\Lib\\site-packages\\xgboost\\core.py:729\u001b[39m, in \u001b[36mrequire_keyword_args.<locals>.throw_if.<locals>.inner_f\u001b[39m\u001b[34m(*args, **kwargs)\u001b[39m\n\u001b[32m    727\u001b[39m \u001b[38;5;28;01mfor\u001b[39;00m k, arg \u001b[38;5;129;01min\u001b[39;00m \u001b[38;5;28mzip\u001b[39m(sig.parameters, args):\n\u001b[32m    728\u001b[39m     kwargs[k] = arg\n\u001b[32m--> \u001b[39m\u001b[32m729\u001b[39m \u001b[38;5;28;01mreturn\u001b[39;00m \u001b[43mfunc\u001b[49m\u001b[43m(\u001b[49m\u001b[43m*\u001b[49m\u001b[43m*\u001b[49m\u001b[43mkwargs\u001b[49m\u001b[43m)\u001b[49m\n",
      "\u001b[36mFile \u001b[39m\u001b[32m~\\Desktop\\Stock_Sentiment_Project\\env\\Lib\\site-packages\\xgboost\\sklearn.py:1683\u001b[39m, in \u001b[36mXGBClassifier.fit\u001b[39m\u001b[34m(self, X, y, sample_weight, base_margin, eval_set, verbose, xgb_model, sample_weight_eval_set, base_margin_eval_set, feature_weights)\u001b[39m\n\u001b[32m   1661\u001b[39m model, metric, params, feature_weights = \u001b[38;5;28mself\u001b[39m._configure_fit(\n\u001b[32m   1662\u001b[39m     xgb_model, params, feature_weights\n\u001b[32m   1663\u001b[39m )\n\u001b[32m   1664\u001b[39m train_dmatrix, evals = _wrap_evaluation_matrices(\n\u001b[32m   1665\u001b[39m     missing=\u001b[38;5;28mself\u001b[39m.missing,\n\u001b[32m   1666\u001b[39m     X=X,\n\u001b[32m   (...)\u001b[39m\u001b[32m   1680\u001b[39m     feature_types=\u001b[38;5;28mself\u001b[39m.feature_types,\n\u001b[32m   1681\u001b[39m )\n\u001b[32m-> \u001b[39m\u001b[32m1683\u001b[39m \u001b[38;5;28mself\u001b[39m._Booster = \u001b[43mtrain\u001b[49m\u001b[43m(\u001b[49m\n\u001b[32m   1684\u001b[39m \u001b[43m    \u001b[49m\u001b[43mparams\u001b[49m\u001b[43m,\u001b[49m\n\u001b[32m   1685\u001b[39m \u001b[43m    \u001b[49m\u001b[43mtrain_dmatrix\u001b[49m\u001b[43m,\u001b[49m\n\u001b[32m   1686\u001b[39m \u001b[43m    \u001b[49m\u001b[38;5;28;43mself\u001b[39;49m\u001b[43m.\u001b[49m\u001b[43mget_num_boosting_rounds\u001b[49m\u001b[43m(\u001b[49m\u001b[43m)\u001b[49m\u001b[43m,\u001b[49m\n\u001b[32m   1687\u001b[39m \u001b[43m    \u001b[49m\u001b[43mevals\u001b[49m\u001b[43m=\u001b[49m\u001b[43mevals\u001b[49m\u001b[43m,\u001b[49m\n\u001b[32m   1688\u001b[39m \u001b[43m    \u001b[49m\u001b[43mearly_stopping_rounds\u001b[49m\u001b[43m=\u001b[49m\u001b[38;5;28;43mself\u001b[39;49m\u001b[43m.\u001b[49m\u001b[43mearly_stopping_rounds\u001b[49m\u001b[43m,\u001b[49m\n\u001b[32m   1689\u001b[39m \u001b[43m    \u001b[49m\u001b[43mevals_result\u001b[49m\u001b[43m=\u001b[49m\u001b[43mevals_result\u001b[49m\u001b[43m,\u001b[49m\n\u001b[32m   1690\u001b[39m \u001b[43m    \u001b[49m\u001b[43mobj\u001b[49m\u001b[43m=\u001b[49m\u001b[43mobj\u001b[49m\u001b[43m,\u001b[49m\n\u001b[32m   1691\u001b[39m \u001b[43m    \u001b[49m\u001b[43mcustom_metric\u001b[49m\u001b[43m=\u001b[49m\u001b[43mmetric\u001b[49m\u001b[43m,\u001b[49m\n\u001b[32m   1692\u001b[39m \u001b[43m    \u001b[49m\u001b[43mverbose_eval\u001b[49m\u001b[43m=\u001b[49m\u001b[43mverbose\u001b[49m\u001b[43m,\u001b[49m\n\u001b[32m   1693\u001b[39m \u001b[43m    \u001b[49m\u001b[43mxgb_model\u001b[49m\u001b[43m=\u001b[49m\u001b[43mmodel\u001b[49m\u001b[43m,\u001b[49m\n\u001b[32m   1694\u001b[39m \u001b[43m    \u001b[49m\u001b[43mcallbacks\u001b[49m\u001b[43m=\u001b[49m\u001b[38;5;28;43mself\u001b[39;49m\u001b[43m.\u001b[49m\u001b[43mcallbacks\u001b[49m\u001b[43m,\u001b[49m\n\u001b[32m   1695\u001b[39m \u001b[43m\u001b[49m\u001b[43m)\u001b[49m\n\u001b[32m   1697\u001b[39m \u001b[38;5;28;01mif\u001b[39;00m \u001b[38;5;129;01mnot\u001b[39;00m \u001b[38;5;28mcallable\u001b[39m(\u001b[38;5;28mself\u001b[39m.objective):\n\u001b[32m   1698\u001b[39m     \u001b[38;5;28mself\u001b[39m.objective = params[\u001b[33m\"\u001b[39m\u001b[33mobjective\u001b[39m\u001b[33m\"\u001b[39m]\n",
      "\u001b[36mFile \u001b[39m\u001b[32m~\\Desktop\\Stock_Sentiment_Project\\env\\Lib\\site-packages\\xgboost\\core.py:729\u001b[39m, in \u001b[36mrequire_keyword_args.<locals>.throw_if.<locals>.inner_f\u001b[39m\u001b[34m(*args, **kwargs)\u001b[39m\n\u001b[32m    727\u001b[39m \u001b[38;5;28;01mfor\u001b[39;00m k, arg \u001b[38;5;129;01min\u001b[39;00m \u001b[38;5;28mzip\u001b[39m(sig.parameters, args):\n\u001b[32m    728\u001b[39m     kwargs[k] = arg\n\u001b[32m--> \u001b[39m\u001b[32m729\u001b[39m \u001b[38;5;28;01mreturn\u001b[39;00m \u001b[43mfunc\u001b[49m\u001b[43m(\u001b[49m\u001b[43m*\u001b[49m\u001b[43m*\u001b[49m\u001b[43mkwargs\u001b[49m\u001b[43m)\u001b[49m\n",
      "\u001b[36mFile \u001b[39m\u001b[32m~\\Desktop\\Stock_Sentiment_Project\\env\\Lib\\site-packages\\xgboost\\training.py:183\u001b[39m, in \u001b[36mtrain\u001b[39m\u001b[34m(params, dtrain, num_boost_round, evals, obj, maximize, early_stopping_rounds, evals_result, verbose_eval, xgb_model, callbacks, custom_metric)\u001b[39m\n\u001b[32m    181\u001b[39m \u001b[38;5;28;01mif\u001b[39;00m cb_container.before_iteration(bst, i, dtrain, evals):\n\u001b[32m    182\u001b[39m     \u001b[38;5;28;01mbreak\u001b[39;00m\n\u001b[32m--> \u001b[39m\u001b[32m183\u001b[39m \u001b[43mbst\u001b[49m\u001b[43m.\u001b[49m\u001b[43mupdate\u001b[49m\u001b[43m(\u001b[49m\u001b[43mdtrain\u001b[49m\u001b[43m,\u001b[49m\u001b[43m \u001b[49m\u001b[43miteration\u001b[49m\u001b[43m=\u001b[49m\u001b[43mi\u001b[49m\u001b[43m,\u001b[49m\u001b[43m \u001b[49m\u001b[43mfobj\u001b[49m\u001b[43m=\u001b[49m\u001b[43mobj\u001b[49m\u001b[43m)\u001b[49m\n\u001b[32m    184\u001b[39m \u001b[38;5;28;01mif\u001b[39;00m cb_container.after_iteration(bst, i, dtrain, evals):\n\u001b[32m    185\u001b[39m     \u001b[38;5;28;01mbreak\u001b[39;00m\n",
      "\u001b[36mFile \u001b[39m\u001b[32m~\\Desktop\\Stock_Sentiment_Project\\env\\Lib\\site-packages\\xgboost\\core.py:2246\u001b[39m, in \u001b[36mBooster.update\u001b[39m\u001b[34m(self, dtrain, iteration, fobj)\u001b[39m\n\u001b[32m   2243\u001b[39m \u001b[38;5;28mself\u001b[39m._assign_dmatrix_features(dtrain)\n\u001b[32m   2245\u001b[39m \u001b[38;5;28;01mif\u001b[39;00m fobj \u001b[38;5;129;01mis\u001b[39;00m \u001b[38;5;28;01mNone\u001b[39;00m:\n\u001b[32m-> \u001b[39m\u001b[32m2246\u001b[39m     \u001b[43m_check_call\u001b[49m\u001b[43m(\u001b[49m\n\u001b[32m   2247\u001b[39m \u001b[43m        \u001b[49m\u001b[43m_LIB\u001b[49m\u001b[43m.\u001b[49m\u001b[43mXGBoosterUpdateOneIter\u001b[49m\u001b[43m(\u001b[49m\n\u001b[32m   2248\u001b[39m \u001b[43m            \u001b[49m\u001b[38;5;28;43mself\u001b[39;49m\u001b[43m.\u001b[49m\u001b[43mhandle\u001b[49m\u001b[43m,\u001b[49m\u001b[43m \u001b[49m\u001b[43mctypes\u001b[49m\u001b[43m.\u001b[49m\u001b[43mc_int\u001b[49m\u001b[43m(\u001b[49m\u001b[43miteration\u001b[49m\u001b[43m)\u001b[49m\u001b[43m,\u001b[49m\u001b[43m \u001b[49m\u001b[43mdtrain\u001b[49m\u001b[43m.\u001b[49m\u001b[43mhandle\u001b[49m\n\u001b[32m   2249\u001b[39m \u001b[43m        \u001b[49m\u001b[43m)\u001b[49m\n\u001b[32m   2250\u001b[39m \u001b[43m    \u001b[49m\u001b[43m)\u001b[49m\n\u001b[32m   2251\u001b[39m \u001b[38;5;28;01melse\u001b[39;00m:\n\u001b[32m   2252\u001b[39m     pred = \u001b[38;5;28mself\u001b[39m.predict(dtrain, output_margin=\u001b[38;5;28;01mTrue\u001b[39;00m, training=\u001b[38;5;28;01mTrue\u001b[39;00m)\n",
      "\u001b[36mFile \u001b[39m\u001b[32m~\\Desktop\\Stock_Sentiment_Project\\env\\Lib\\site-packages\\xgboost\\core.py:310\u001b[39m, in \u001b[36m_check_call\u001b[39m\u001b[34m(ret)\u001b[39m\n\u001b[32m    299\u001b[39m \u001b[38;5;250m\u001b[39m\u001b[33;03m\"\"\"Check the return value of C API call\u001b[39;00m\n\u001b[32m    300\u001b[39m \n\u001b[32m    301\u001b[39m \u001b[33;03mThis function will raise exception when error occurs.\u001b[39;00m\n\u001b[32m   (...)\u001b[39m\u001b[32m    307\u001b[39m \u001b[33;03m    return value from API calls\u001b[39;00m\n\u001b[32m    308\u001b[39m \u001b[33;03m\"\"\"\u001b[39;00m\n\u001b[32m    309\u001b[39m \u001b[38;5;28;01mif\u001b[39;00m ret != \u001b[32m0\u001b[39m:\n\u001b[32m--> \u001b[39m\u001b[32m310\u001b[39m     \u001b[38;5;28;01mraise\u001b[39;00m XGBoostError(py_str(_LIB.XGBGetLastError()))\n",
      "\u001b[31mXGBoostError\u001b[39m: [14:17:47] C:\\actions-runner\\_work\\xgboost\\xgboost\\src\\objective\\./regression_loss.h:68: Check failed: base_score > 0.0f && base_score < 1.0f: base_score must be in (0,1) for logistic loss, got: 0"
     ]
    }
   ],
   "source": [
    "import xgboost as xgb\n",
    "from sklearn.metrics import classification_report, confusion_matrix\n",
    "import seaborn as sns\n",
    "import matplotlib.pyplot as plt\n",
    "\n",
    "# Initialize the XGBoost model\n",
    "# We use 'use_label_encoder=False' and 'eval_metric='logloss'' to avoid common warnings\n",
    "model = xgb.XGBClassifier(objective='binary:logistic', use_label_encoder=False, eval_metric='logloss')\n",
    "\n",
    "# Train the model on the training data\n",
    "model.fit(X_train, y_train)\n",
    "\n",
    "print(\"✅ XGBoost Model trained successfully!\")"
   ]
  },
  {
   "cell_type": "code",
   "execution_count": 10,
   "id": "4306729d-3d70-4ea3-850c-4af7171dcfdf",
   "metadata": {},
   "outputs": [
    {
     "name": "stdout",
     "output_type": "stream",
     "text": [
      "Unique values in the training target (y_train):\n",
      "[0]\n"
     ]
    }
   ],
   "source": [
    "print(\"Unique values in the training target (y_train):\")\n",
    "print(y_train.unique())"
   ]
  },
  {
   "cell_type": "code",
   "execution_count": 11,
   "id": "a215dbc0-ee82-49e1-a322-07a17f567cef",
   "metadata": {},
   "outputs": [
    {
     "ename": "NotFittedError",
     "evalue": "need to call fit or load_model beforehand",
     "output_type": "error",
     "traceback": [
      "\u001b[31m---------------------------------------------------------------------------\u001b[39m",
      "\u001b[31mNotFittedError\u001b[39m                            Traceback (most recent call last)",
      "\u001b[36mCell\u001b[39m\u001b[36m \u001b[39m\u001b[32mIn[11]\u001b[39m\u001b[32m, line 2\u001b[39m\n\u001b[32m      1\u001b[39m \u001b[38;5;66;03m# Make predictions on the test set\u001b[39;00m\n\u001b[32m----> \u001b[39m\u001b[32m2\u001b[39m y_pred = \u001b[43mmodel\u001b[49m\u001b[43m.\u001b[49m\u001b[43mpredict\u001b[49m\u001b[43m(\u001b[49m\u001b[43mX_test\u001b[49m\u001b[43m)\u001b[49m\n\u001b[32m      4\u001b[39m \u001b[38;5;66;03m# --- Classification Report ---\u001b[39;00m\n\u001b[32m      5\u001b[39m \u001b[38;5;66;03m# This shows key metrics like precision and recall\u001b[39;00m\n\u001b[32m      6\u001b[39m \u001b[38;5;28mprint\u001b[39m(\u001b[33m\"\u001b[39m\u001b[38;5;130;01m\\n\u001b[39;00m\u001b[33m--- Classification Report ---\u001b[39m\u001b[33m\"\u001b[39m)\n",
      "\u001b[36mFile \u001b[39m\u001b[32m~\\Desktop\\Stock_Sentiment_Project\\env\\Lib\\site-packages\\xgboost\\core.py:729\u001b[39m, in \u001b[36mrequire_keyword_args.<locals>.throw_if.<locals>.inner_f\u001b[39m\u001b[34m(*args, **kwargs)\u001b[39m\n\u001b[32m    727\u001b[39m \u001b[38;5;28;01mfor\u001b[39;00m k, arg \u001b[38;5;129;01min\u001b[39;00m \u001b[38;5;28mzip\u001b[39m(sig.parameters, args):\n\u001b[32m    728\u001b[39m     kwargs[k] = arg\n\u001b[32m--> \u001b[39m\u001b[32m729\u001b[39m \u001b[38;5;28;01mreturn\u001b[39;00m \u001b[43mfunc\u001b[49m\u001b[43m(\u001b[49m\u001b[43m*\u001b[49m\u001b[43m*\u001b[49m\u001b[43mkwargs\u001b[49m\u001b[43m)\u001b[49m\n",
      "\u001b[36mFile \u001b[39m\u001b[32m~\\Desktop\\Stock_Sentiment_Project\\env\\Lib\\site-packages\\xgboost\\sklearn.py:1719\u001b[39m, in \u001b[36mXGBClassifier.predict\u001b[39m\u001b[34m(self, X, output_margin, validate_features, base_margin, iteration_range)\u001b[39m\n\u001b[32m   1708\u001b[39m \u001b[38;5;129m@_deprecate_positional_args\u001b[39m\n\u001b[32m   1709\u001b[39m \u001b[38;5;28;01mdef\u001b[39;00m\u001b[38;5;250m \u001b[39m\u001b[34mpredict\u001b[39m(\n\u001b[32m   1710\u001b[39m     \u001b[38;5;28mself\u001b[39m,\n\u001b[32m   (...)\u001b[39m\u001b[32m   1716\u001b[39m     iteration_range: Optional[IterationRange] = \u001b[38;5;28;01mNone\u001b[39;00m,\n\u001b[32m   1717\u001b[39m ) -> ArrayLike:\n\u001b[32m   1718\u001b[39m     \u001b[38;5;28;01mwith\u001b[39;00m config_context(verbosity=\u001b[38;5;28mself\u001b[39m.verbosity):\n\u001b[32m-> \u001b[39m\u001b[32m1719\u001b[39m         class_probs = \u001b[38;5;28;43msuper\u001b[39;49m\u001b[43m(\u001b[49m\u001b[43m)\u001b[49m\u001b[43m.\u001b[49m\u001b[43mpredict\u001b[49m\u001b[43m(\u001b[49m\n\u001b[32m   1720\u001b[39m \u001b[43m            \u001b[49m\u001b[43mX\u001b[49m\u001b[43m=\u001b[49m\u001b[43mX\u001b[49m\u001b[43m,\u001b[49m\n\u001b[32m   1721\u001b[39m \u001b[43m            \u001b[49m\u001b[43moutput_margin\u001b[49m\u001b[43m=\u001b[49m\u001b[43moutput_margin\u001b[49m\u001b[43m,\u001b[49m\n\u001b[32m   1722\u001b[39m \u001b[43m            \u001b[49m\u001b[43mvalidate_features\u001b[49m\u001b[43m=\u001b[49m\u001b[43mvalidate_features\u001b[49m\u001b[43m,\u001b[49m\n\u001b[32m   1723\u001b[39m \u001b[43m            \u001b[49m\u001b[43mbase_margin\u001b[49m\u001b[43m=\u001b[49m\u001b[43mbase_margin\u001b[49m\u001b[43m,\u001b[49m\n\u001b[32m   1724\u001b[39m \u001b[43m            \u001b[49m\u001b[43miteration_range\u001b[49m\u001b[43m=\u001b[49m\u001b[43miteration_range\u001b[49m\u001b[43m,\u001b[49m\n\u001b[32m   1725\u001b[39m \u001b[43m        \u001b[49m\u001b[43m)\u001b[49m\n\u001b[32m   1726\u001b[39m         \u001b[38;5;28;01mif\u001b[39;00m output_margin:\n\u001b[32m   1727\u001b[39m             \u001b[38;5;66;03m# If output_margin is active, simply return the scores\u001b[39;00m\n\u001b[32m   1728\u001b[39m             \u001b[38;5;28;01mreturn\u001b[39;00m class_probs\n",
      "\u001b[36mFile \u001b[39m\u001b[32m~\\Desktop\\Stock_Sentiment_Project\\env\\Lib\\site-packages\\xgboost\\core.py:729\u001b[39m, in \u001b[36mrequire_keyword_args.<locals>.throw_if.<locals>.inner_f\u001b[39m\u001b[34m(*args, **kwargs)\u001b[39m\n\u001b[32m    727\u001b[39m \u001b[38;5;28;01mfor\u001b[39;00m k, arg \u001b[38;5;129;01min\u001b[39;00m \u001b[38;5;28mzip\u001b[39m(sig.parameters, args):\n\u001b[32m    728\u001b[39m     kwargs[k] = arg\n\u001b[32m--> \u001b[39m\u001b[32m729\u001b[39m \u001b[38;5;28;01mreturn\u001b[39;00m \u001b[43mfunc\u001b[49m\u001b[43m(\u001b[49m\u001b[43m*\u001b[49m\u001b[43m*\u001b[49m\u001b[43mkwargs\u001b[49m\u001b[43m)\u001b[49m\n",
      "\u001b[36mFile \u001b[39m\u001b[32m~\\Desktop\\Stock_Sentiment_Project\\env\\Lib\\site-packages\\xgboost\\sklearn.py:1327\u001b[39m, in \u001b[36mXGBModel.predict\u001b[39m\u001b[34m(self, X, output_margin, validate_features, base_margin, iteration_range)\u001b[39m\n\u001b[32m   1325\u001b[39m \u001b[38;5;28;01mif\u001b[39;00m \u001b[38;5;28mself\u001b[39m._can_use_inplace_predict():\n\u001b[32m   1326\u001b[39m     \u001b[38;5;28;01mtry\u001b[39;00m:\n\u001b[32m-> \u001b[39m\u001b[32m1327\u001b[39m         predts = \u001b[38;5;28;43mself\u001b[39;49m\u001b[43m.\u001b[49m\u001b[43mget_booster\u001b[49m\u001b[43m(\u001b[49m\u001b[43m)\u001b[49m.inplace_predict(\n\u001b[32m   1328\u001b[39m             data=X,\n\u001b[32m   1329\u001b[39m             iteration_range=iteration_range,\n\u001b[32m   1330\u001b[39m             predict_type=\u001b[33m\"\u001b[39m\u001b[33mmargin\u001b[39m\u001b[33m\"\u001b[39m \u001b[38;5;28;01mif\u001b[39;00m output_margin \u001b[38;5;28;01melse\u001b[39;00m \u001b[33m\"\u001b[39m\u001b[33mvalue\u001b[39m\u001b[33m\"\u001b[39m,\n\u001b[32m   1331\u001b[39m             missing=\u001b[38;5;28mself\u001b[39m.missing,\n\u001b[32m   1332\u001b[39m             base_margin=base_margin,\n\u001b[32m   1333\u001b[39m             validate_features=validate_features,\n\u001b[32m   1334\u001b[39m         )\n\u001b[32m   1335\u001b[39m         \u001b[38;5;28;01mif\u001b[39;00m _is_cupy_alike(predts):\n\u001b[32m   1336\u001b[39m             cp = import_cupy()\n",
      "\u001b[36mFile \u001b[39m\u001b[32m~\\Desktop\\Stock_Sentiment_Project\\env\\Lib\\site-packages\\xgboost\\sklearn.py:922\u001b[39m, in \u001b[36mXGBModel.get_booster\u001b[39m\u001b[34m(self)\u001b[39m\n\u001b[32m    919\u001b[39m \u001b[38;5;28;01mif\u001b[39;00m \u001b[38;5;129;01mnot\u001b[39;00m \u001b[38;5;28mself\u001b[39m.__sklearn_is_fitted__():\n\u001b[32m    920\u001b[39m     \u001b[38;5;28;01mfrom\u001b[39;00m\u001b[38;5;250m \u001b[39m\u001b[34;01msklearn\u001b[39;00m\u001b[34;01m.\u001b[39;00m\u001b[34;01mexceptions\u001b[39;00m\u001b[38;5;250m \u001b[39m\u001b[38;5;28;01mimport\u001b[39;00m NotFittedError\n\u001b[32m--> \u001b[39m\u001b[32m922\u001b[39m     \u001b[38;5;28;01mraise\u001b[39;00m NotFittedError(\u001b[33m\"\u001b[39m\u001b[33mneed to call fit or load_model beforehand\u001b[39m\u001b[33m\"\u001b[39m)\n\u001b[32m    923\u001b[39m \u001b[38;5;28;01mreturn\u001b[39;00m \u001b[38;5;28mself\u001b[39m._Booster\n",
      "\u001b[31mNotFittedError\u001b[39m: need to call fit or load_model beforehand"
     ]
    }
   ],
   "source": [
    "# Make predictions on the test set\n",
    "y_pred = model.predict(X_test)\n",
    "\n",
    "# --- Classification Report ---\n",
    "# This shows key metrics like precision and recall\n",
    "print(\"\\n--- Classification Report ---\")\n",
    "print(classification_report(y_test, y_pred, zero_division=0))\n",
    "\n",
    "# --- Confusion Matrix ---\n",
    "# This visually shows correct vs. incorrect predictions\n",
    "print(\"\\n--- Confusion Matrix ---\")\n",
    "cm = confusion_matrix(y_test, y_pred)\n",
    "sns.heatmap(cm, annot=True, fmt='d', cmap='Blues')\n",
    "plt.xlabel('Predicted')\n",
    "plt.ylabel('Actual')\n",
    "plt.show()"
   ]
  },
  {
   "cell_type": "code",
   "execution_count": null,
   "id": "efe99e45-aacc-4cad-a6ea-25ce26250f48",
   "metadata": {},
   "outputs": [],
   "source": []
  }
 ],
 "metadata": {
  "kernelspec": {
   "display_name": "Python 3 (ipykernel)",
   "language": "python",
   "name": "python3"
  },
  "language_info": {
   "codemirror_mode": {
    "name": "ipython",
    "version": 3
   },
   "file_extension": ".py",
   "mimetype": "text/x-python",
   "name": "python",
   "nbconvert_exporter": "python",
   "pygments_lexer": "ipython3",
   "version": "3.13.7"
  }
 },
 "nbformat": 4,
 "nbformat_minor": 5
}
